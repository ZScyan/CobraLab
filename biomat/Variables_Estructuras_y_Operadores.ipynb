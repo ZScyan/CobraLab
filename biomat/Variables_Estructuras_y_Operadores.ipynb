{
  "cells": [
    {
      "cell_type": "markdown",
      "metadata": {
        "id": "view-in-github",
        "colab_type": "text"
      },
      "source": [
        "<a href=\"https://colab.research.google.com/github/ZScyan/CobraLab/blob/main/biomat/Variables_Estructuras_y_Operadores.ipynb\" target=\"_parent\"><img src=\"https://colab.research.google.com/assets/colab-badge.svg\" alt=\"Open In Colab\"/></a>"
      ]
    },
    {
      "cell_type": "markdown",
      "id": "3ace21df",
      "metadata": {
        "id": "3ace21df"
      },
      "source": [
        "# Técnica: ARITMETICA\n",
        "\n",
        "## Python como calculadora Científica"
      ]
    },
    {
      "cell_type": "code",
      "execution_count": null,
      "id": "6f6f2b3c",
      "metadata": {
        "id": "6f6f2b3c"
      },
      "outputs": [],
      "source": [
        "#Suma"
      ]
    },
    {
      "cell_type": "code",
      "execution_count": null,
      "id": "8b9407b6",
      "metadata": {
        "id": "8b9407b6"
      },
      "outputs": [],
      "source": [
        "#Resta"
      ]
    },
    {
      "cell_type": "code",
      "execution_count": null,
      "id": "afb73c8d",
      "metadata": {
        "id": "afb73c8d"
      },
      "outputs": [],
      "source": [
        "#Multiplicación"
      ]
    },
    {
      "cell_type": "code",
      "execution_count": null,
      "id": "51040f7b",
      "metadata": {
        "id": "51040f7b"
      },
      "outputs": [],
      "source": [
        "#Division"
      ]
    },
    {
      "cell_type": "code",
      "execution_count": null,
      "id": "169d2f30",
      "metadata": {
        "id": "169d2f30"
      },
      "outputs": [],
      "source": [
        "#Floor (//)"
      ]
    },
    {
      "cell_type": "code",
      "source": [],
      "metadata": {
        "id": "1u6jVKID0kY0"
      },
      "id": "1u6jVKID0kY0",
      "execution_count": 2,
      "outputs": []
    },
    {
      "cell_type": "code",
      "execution_count": 3,
      "id": "e82c40d5",
      "metadata": {
        "id": "e82c40d5"
      },
      "outputs": [],
      "source": [
        "#Módulo (%) Residuo de la division"
      ]
    },
    {
      "cell_type": "code",
      "source": [],
      "metadata": {
        "id": "F5f6poa82W2R"
      },
      "id": "F5f6poa82W2R",
      "execution_count": 5,
      "outputs": []
    },
    {
      "cell_type": "markdown",
      "id": "daf3b1bf",
      "metadata": {
        "id": "daf3b1bf"
      },
      "source": [
        "# ¿Cómo sabemos si un número es par o non?"
      ]
    },
    {
      "cell_type": "code",
      "execution_count": null,
      "id": "fd667f41",
      "metadata": {
        "id": "fd667f41"
      },
      "outputs": [],
      "source": [
        "#Cómo sabemos si un número es par o non?\n",
        "\n",
        "\n",
        "\n",
        "\n",
        "\n",
        "\n",
        "\n",
        "\n",
        "\n",
        "\n",
        "\n",
        "\n",
        "\n",
        "\n",
        "\n",
        "\n",
        "\n",
        "\n",
        "\n",
        "\n",
        "\n",
        "\n",
        "\n"
      ]
    },
    {
      "cell_type": "markdown",
      "id": "3a0182c2",
      "metadata": {
        "id": "3a0182c2"
      },
      "source": [
        "# Técnica: EXPONENTES"
      ]
    },
    {
      "cell_type": "code",
      "execution_count": null,
      "id": "630036ad",
      "metadata": {
        "id": "630036ad"
      },
      "outputs": [],
      "source": [
        "#Potencias"
      ]
    },
    {
      "cell_type": "code",
      "execution_count": null,
      "id": "6754b143",
      "metadata": {
        "id": "6754b143"
      },
      "outputs": [],
      "source": [
        "#Raiz Cuadrada"
      ]
    },
    {
      "cell_type": "markdown",
      "id": "602d7e2d",
      "metadata": {
        "id": "602d7e2d"
      },
      "source": [
        "# Técnica: Orden de Operaciones ( ),**, *, / , + , -"
      ]
    },
    {
      "cell_type": "code",
      "execution_count": null,
      "id": "09ba844b",
      "metadata": {
        "id": "09ba844b"
      },
      "outputs": [],
      "source": [
        "#Orden de operaciones"
      ]
    },
    {
      "cell_type": "code",
      "execution_count": null,
      "id": "c9922080",
      "metadata": {
        "id": "c9922080"
      },
      "outputs": [],
      "source": [
        "#Uso de paréntesis (Calculadora)"
      ]
    },
    {
      "cell_type": "code",
      "execution_count": null,
      "id": "60edfbeb",
      "metadata": {
        "id": "60edfbeb"
      },
      "outputs": [],
      "source": [
        "#Suma que no da cero! (0.1 + 0.2)-0.3"
      ]
    },
    {
      "cell_type": "markdown",
      "id": "ac07130e",
      "metadata": {
        "id": "ac07130e"
      },
      "source": [
        "# Técnica: ASIGNACIÓN DE VARIABLES"
      ]
    },
    {
      "cell_type": "code",
      "execution_count": null,
      "id": "a2c6b17b",
      "metadata": {
        "id": "a2c6b17b"
      },
      "outputs": [],
      "source": [
        "#Asignación simple"
      ]
    },
    {
      "cell_type": "code",
      "execution_count": null,
      "id": "ebd9d073",
      "metadata": {
        "id": "ebd9d073"
      },
      "outputs": [],
      "source": [
        "#Asignación de sumas"
      ]
    },
    {
      "cell_type": "code",
      "execution_count": null,
      "id": "0ca0cd95",
      "metadata": {
        "id": "0ca0cd95"
      },
      "outputs": [],
      "source": [
        "#Asignación de texto"
      ]
    },
    {
      "cell_type": "code",
      "execution_count": null,
      "id": "c91b516d",
      "metadata": {
        "id": "c91b516d"
      },
      "outputs": [],
      "source": [
        "#Sumas de texto"
      ]
    },
    {
      "cell_type": "code",
      "execution_count": null,
      "id": "982367b1",
      "metadata": {
        "id": "982367b1"
      },
      "outputs": [],
      "source": [
        "#Sumas de números"
      ]
    },
    {
      "cell_type": "code",
      "execution_count": null,
      "id": "42fbbeea",
      "metadata": {
        "id": "42fbbeea"
      },
      "outputs": [],
      "source": [
        "#Sumas de textos y números"
      ]
    },
    {
      "cell_type": "markdown",
      "id": "944b4949",
      "metadata": {
        "id": "944b4949"
      },
      "source": [
        "# Reglas para nombrar variables\n",
        "\n",
        "    1. No pueden empezar con un número.\n",
        "    2. Sin uso de espacios en blanco (usar \"_\")\n",
        "    3. Símbolos prohibidos :'\",<>/?|\\()!@#$%^&*~-+\n",
        "    4. Recomendación de empezar con minúscula.\n",
        "    5. Evitar las letras 'l' (L minúscula), 'O' (Mayúscula o),\n",
        "       o 'I' (Letra i mayúscula) .\n",
        "    6. evitar palabras de python como: \"list\" and \"str\"\n",
        "    (Restart the kernel si llegas a escribir cosas como int=4)"
      ]
    },
    {
      "cell_type": "markdown",
      "id": "caebaa49",
      "metadata": {
        "id": "caebaa49"
      },
      "source": [
        "## 1) Genera una variable llamada \"mi_ganancia\" y que valga 100\n",
        "## 2) Genera una variable llamada \"impuesto\" y que sea igual al porcentaje del IVA\n",
        "## 3) Genera una variable llamada \"ganancia_neta\" que sea el cálculo de la ganancia menos el impuesto"
      ]
    },
    {
      "cell_type": "code",
      "execution_count": null,
      "id": "8aa1d762",
      "metadata": {
        "id": "8aa1d762"
      },
      "outputs": [],
      "source": [
        "#Reto\n",
        "#Ganancia neta\n",
        "#mi_ganancia,impuesto,ganancia_neta\n",
        "\n",
        "\n",
        "\n",
        "\n",
        "\n",
        "\n",
        "\n",
        "\n",
        "\n",
        "\n",
        "\n",
        "\n",
        "\n",
        "\n",
        "\n",
        "\n"
      ]
    },
    {
      "cell_type": "markdown",
      "id": "d47f2bd7",
      "metadata": {
        "id": "d47f2bd7"
      },
      "source": [
        "\n",
        "# Técnica: Tipos de Variables: type( )"
      ]
    },
    {
      "cell_type": "code",
      "execution_count": null,
      "id": "c8b9cdf4",
      "metadata": {
        "id": "c8b9cdf4"
      },
      "outputs": [],
      "source": [
        "#type(texto)"
      ]
    },
    {
      "cell_type": "code",
      "execution_count": null,
      "id": "58aaa372",
      "metadata": {
        "id": "58aaa372"
      },
      "outputs": [],
      "source": [
        "#type(entero)"
      ]
    },
    {
      "cell_type": "code",
      "execution_count": null,
      "id": "c1591850",
      "metadata": {
        "id": "c1591850"
      },
      "outputs": [],
      "source": [
        "#type(decimal)"
      ]
    },
    {
      "cell_type": "markdown",
      "id": "bb43f5e0",
      "metadata": {
        "id": "bb43f5e0"
      },
      "source": [
        "# Técnica: Cadenas / Strings"
      ]
    },
    {
      "cell_type": "code",
      "execution_count": null,
      "id": "41c6e5a4",
      "metadata": {
        "id": "41c6e5a4"
      },
      "outputs": [],
      "source": [
        "#Definir una cadena de texto"
      ]
    },
    {
      "cell_type": "code",
      "execution_count": null,
      "id": "549129e1",
      "metadata": {
        "id": "549129e1"
      },
      "outputs": [],
      "source": [
        "#Cadena de texto con comillas"
      ]
    },
    {
      "cell_type": "code",
      "execution_count": null,
      "id": "ea72c67f",
      "metadata": {
        "id": "ea72c67f"
      },
      "outputs": [],
      "source": [
        "#New line\\n"
      ]
    },
    {
      "cell_type": "code",
      "execution_count": null,
      "id": "1b0d098d",
      "metadata": {
        "id": "1b0d098d"
      },
      "outputs": [],
      "source": [
        "#Multiplicacion de caracteres \"T\"*2"
      ]
    },
    {
      "cell_type": "markdown",
      "id": "b627cf12",
      "metadata": {
        "id": "b627cf12"
      },
      "source": [
        "# En una sola línea de código (\"one-liner\") repite la letra \"A\" 20 veces, seguida de la letra \"T\" 30 veces.\n",
        "## Solo puedes escribir en el código la letra \"A\" y la letra \"T\" una vez cada una."
      ]
    },
    {
      "cell_type": "code",
      "execution_count": null,
      "id": "7fe3202a",
      "metadata": {
        "id": "7fe3202a"
      },
      "outputs": [],
      "source": [
        "#Reto AAAAAAAAAAAAAAAAAAAATTTTTTTTTTTTTTTTTTTTTTTTTTTTTT\n",
        "\n",
        "\n",
        "\n",
        "\n",
        "\n",
        "\n",
        "\n",
        "\n",
        "\n",
        "\n",
        "\n",
        "\n"
      ]
    },
    {
      "cell_type": "markdown",
      "id": "5f5dac18",
      "metadata": {
        "id": "5f5dac18"
      },
      "source": [
        "# Técnica: Función len ( )"
      ]
    },
    {
      "cell_type": "code",
      "execution_count": null,
      "id": "e8821cbd",
      "metadata": {
        "id": "e8821cbd"
      },
      "outputs": [],
      "source": [
        "#len(texto)"
      ]
    },
    {
      "cell_type": "markdown",
      "id": "97e945bb",
      "metadata": {
        "id": "97e945bb"
      },
      "source": [
        "# Técnica: Indexing y Subindexing"
      ]
    },
    {
      "cell_type": "code",
      "execution_count": null,
      "id": "42365484",
      "metadata": {
        "id": "42365484"
      },
      "outputs": [],
      "source": [
        "#texto[] (elemento)"
      ]
    },
    {
      "cell_type": "code",
      "execution_count": null,
      "id": "4aadb47d",
      "metadata": {
        "id": "4aadb47d"
      },
      "outputs": [],
      "source": [
        "#texto[:] (secuencia)"
      ]
    },
    {
      "cell_type": "code",
      "execution_count": null,
      "id": "2d9b8141",
      "metadata": {
        "id": "2d9b8141"
      },
      "outputs": [],
      "source": [
        "#texto[::] (step/paso)"
      ]
    },
    {
      "cell_type": "code",
      "execution_count": null,
      "id": "eab6ab7d",
      "metadata": {
        "id": "eab6ab7d"
      },
      "outputs": [],
      "source": [
        "#texto[-1] #orden inverso"
      ]
    },
    {
      "cell_type": "markdown",
      "id": "beb7677d",
      "metadata": {
        "id": "beb7677d"
      },
      "source": [
        "## 1) Repite la cadena \"ACGT\" 20 veces y guárdala en una variable llamada \"adn\"\n",
        "## 2) Obtén la letra 23 de la cadena \"adn\"\n",
        "## 3) Obtén las primeras 10 letras de \"adn\"\n",
        "## 4) Obtén de la letra 3 a la letra 15 de \"adn\"\n",
        "## 5) Invierte la secuencia de \"adn\"\n",
        "## 6) Obtén solo las letras \"T\" de adn"
      ]
    },
    {
      "cell_type": "code",
      "execution_count": null,
      "id": "d999c371",
      "metadata": {
        "id": "d999c371",
        "outputId": "60ce7176-4fef-4df1-8dd9-0dcffa2602a5"
      },
      "outputs": [
        {
          "data": {
            "text/plain": [
              "'ACGTACGTACGTACGTACGTACGTACGTACGTACGTACGTACGTACGTACGTACGTACGTACGTACGTACGTACGTACGT'"
            ]
          },
          "execution_count": 4,
          "metadata": {},
          "output_type": "execute_result"
        }
      ],
      "source": [
        "adn = 'ACGT'*20"
      ]
    },
    {
      "cell_type": "code",
      "execution_count": null,
      "id": "2993d0aa",
      "metadata": {
        "id": "2993d0aa"
      },
      "outputs": [],
      "source": [
        "#Letra 23"
      ]
    },
    {
      "cell_type": "code",
      "execution_count": null,
      "id": "817fc0f4",
      "metadata": {
        "id": "817fc0f4"
      },
      "outputs": [],
      "source": [
        "#Primeras 10 letras"
      ]
    },
    {
      "cell_type": "code",
      "execution_count": null,
      "id": "092f12fe",
      "metadata": {
        "id": "092f12fe"
      },
      "outputs": [],
      "source": [
        "#Segmento 3 a 15"
      ]
    },
    {
      "cell_type": "code",
      "execution_count": null,
      "id": "6ec9d7fc",
      "metadata": {
        "id": "6ec9d7fc"
      },
      "outputs": [],
      "source": [
        "#Secuencia al reves"
      ]
    },
    {
      "cell_type": "code",
      "execution_count": null,
      "id": "0f1dd582",
      "metadata": {
        "id": "0f1dd582"
      },
      "outputs": [],
      "source": [
        "#Puras T's"
      ]
    },
    {
      "cell_type": "markdown",
      "id": "7e21adac",
      "metadata": {
        "id": "7e21adac"
      },
      "source": [
        "# Técnica: Mayúsculas (upper) y Minúsculas (lower)"
      ]
    },
    {
      "cell_type": "code",
      "execution_count": null,
      "id": "0b7e99cf",
      "metadata": {
        "id": "0b7e99cf"
      },
      "outputs": [],
      "source": [
        "texto = 'Sando-Lab'"
      ]
    },
    {
      "cell_type": "code",
      "execution_count": null,
      "id": "196d90cb",
      "metadata": {
        "id": "196d90cb"
      },
      "outputs": [],
      "source": [
        "#upper()"
      ]
    },
    {
      "cell_type": "code",
      "execution_count": null,
      "id": "fe5c28d7",
      "metadata": {
        "id": "fe5c28d7"
      },
      "outputs": [],
      "source": [
        "#lower()"
      ]
    },
    {
      "cell_type": "markdown",
      "id": "f95d4a37",
      "metadata": {
        "id": "f95d4a37"
      },
      "source": [
        "# Técnica: PRINT y FORMATOS\n",
        "\n",
        "*Diferencia entre Jupyter Notebooks y IDE para imprimir*"
      ]
    },
    {
      "cell_type": "code",
      "execution_count": null,
      "id": "2cabf31c",
      "metadata": {
        "id": "2cabf31c"
      },
      "outputs": [],
      "source": [
        "numero = 5\n",
        "texto = \"Texto\""
      ]
    },
    {
      "cell_type": "code",
      "execution_count": null,
      "id": "82928e92",
      "metadata": {
        "id": "82928e92"
      },
      "outputs": [],
      "source": [
        "#numero\n",
        "#print(numero)"
      ]
    },
    {
      "cell_type": "code",
      "execution_count": null,
      "id": "69f0866d",
      "metadata": {
        "id": "69f0866d"
      },
      "outputs": [],
      "source": [
        "#print(f'')"
      ]
    },
    {
      "cell_type": "code",
      "execution_count": null,
      "id": "d84f4919",
      "metadata": {
        "id": "d84f4919"
      },
      "outputs": [],
      "source": [
        "#print(numero+texto)"
      ]
    },
    {
      "cell_type": "code",
      "execution_count": null,
      "id": "7146c15f",
      "metadata": {
        "id": "7146c15f"
      },
      "outputs": [],
      "source": [
        "#print(str(numero)+texto)"
      ]
    },
    {
      "cell_type": "code",
      "execution_count": null,
      "id": "625d820a",
      "metadata": {
        "id": "625d820a"
      },
      "outputs": [],
      "source": [
        "#print('Cara de {2}, pelo de {1} y pies de {0}'.format('pizza','espaguetti','ravioles'))"
      ]
    },
    {
      "cell_type": "code",
      "execution_count": null,
      "id": "226f0b8e",
      "metadata": {
        "id": "226f0b8e"
      },
      "outputs": [],
      "source": [
        "#print('Cara de {0}, pelo de {0} y pies de {0}'.format('pizza','espaguetti','ravioles'))"
      ]
    },
    {
      "cell_type": "code",
      "execution_count": null,
      "id": "21cd6622",
      "metadata": {
        "id": "21cd6622"
      },
      "outputs": [],
      "source": [
        "#print('Cara de {cara}, pelo de {pelo} y pies de {pies}'.format(cara='pizza',pelo='espaguetti',pies='ravioles'))"
      ]
    },
    {
      "cell_type": "code",
      "execution_count": null,
      "id": "98301c03",
      "metadata": {
        "id": "98301c03"
      },
      "outputs": [],
      "source": [
        "#Formateando Numeros decimales\n",
        "#print(f\"El número pi es {pi:1.3f}\")\n",
        "pi = 3.141592653589793238462643383279502884197"
      ]
    },
    {
      "cell_type": "markdown",
      "id": "3d98c484",
      "metadata": {
        "id": "3d98c484"
      },
      "source": [
        "# Reto:\n",
        "### Usando TODAS las variables a continuación, imprime la oración:\n",
        "### Mi nombre es Elubiera Llano Ixiste, tengo cara ovalada y pies grandes. Tengo 23 años y mido 1.73 metros.\n"
      ]
    },
    {
      "cell_type": "code",
      "execution_count": null,
      "id": "ddc525b2",
      "metadata": {
        "id": "ddc525b2"
      },
      "outputs": [],
      "source": [
        "nombre =  \"Elubiera\"\n",
        "apellido = \"Llano Ixiste\"\n",
        "cara = 'ovalada'\n",
        "pies = 'grandes'\n",
        "edad_1 = 19\n",
        "edad_2 = 4\n",
        "estatura = 1.73"
      ]
    },
    {
      "cell_type": "code",
      "execution_count": null,
      "id": "1e72639a",
      "metadata": {
        "id": "1e72639a",
        "outputId": "3b7099c5-b28a-4c95-9717-d891deb86339"
      },
      "outputs": [
        {
          "name": "stdout",
          "output_type": "stream",
          "text": [
            "Mi nombre es Elubiera Llano Ixiste, tengo cara ovalada y pies grandes. Tengo 23 y mido 1.73 metros.\n"
          ]
        }
      ],
      "source": []
    },
    {
      "cell_type": "markdown",
      "id": "4d2eb42f",
      "metadata": {
        "id": "4d2eb42f"
      },
      "source": [
        "# Técnica Mixta: Subindexing + Sumando Cadenas"
      ]
    },
    {
      "cell_type": "code",
      "execution_count": null,
      "id": "2a067d38",
      "metadata": {
        "id": "2a067d38",
        "outputId": "4e9706f5-fb21-4ee6-8453-b0d6455f2853"
      },
      "outputs": [
        {
          "data": {
            "text/plain": [
              "'Pando-Lab'"
            ]
          },
          "execution_count": 68,
          "metadata": {},
          "output_type": "execute_result"
        }
      ],
      "source": [
        "lab = \"Sando-Lab\"\n",
        "nuevo_lab = \"P\"+lab[1:]\n",
        "nuevo_lab"
      ]
    },
    {
      "cell_type": "markdown",
      "id": "729bf06a",
      "metadata": {
        "id": "729bf06a"
      },
      "source": [
        "# Reto:\n",
        "### Convierte Sando-Lab en Panda-Lab usando Slicing, Suma de cadenas y las variables a continuación!"
      ]
    },
    {
      "cell_type": "code",
      "execution_count": 16,
      "id": "aa8f4c39",
      "metadata": {
        "id": "aa8f4c39"
      },
      "outputs": [],
      "source": [
        "lab = \"Sando-Lab\"\n",
        "cdn_1 = \"P\"\n",
        "cdn_2 = 'a'"
      ]
    },
    {
      "cell_type": "code",
      "execution_count": 18,
      "id": "5153e8e7",
      "metadata": {
        "colab": {
          "base_uri": "https://localhost:8080/",
          "height": 35
        },
        "id": "5153e8e7",
        "outputId": "6929e31f-2317-4f69-dfff-17432f8ddd74"
      },
      "outputs": [
        {
          "output_type": "execute_result",
          "data": {
            "text/plain": [
              "'Panda-Lab'"
            ],
            "application/vnd.google.colaboratory.intrinsic+json": {
              "type": "string"
            }
          },
          "metadata": {},
          "execution_count": 18
        }
      ],
      "source": [
        "x = cdn_1+lab[1:4]+cdn_2+lab[5:]\n",
        "x"
      ]
    },
    {
      "cell_type": "markdown",
      "id": "53a3f312",
      "metadata": {
        "id": "53a3f312"
      },
      "source": [
        "# Estructuras de Datos"
      ]
    },
    {
      "cell_type": "markdown",
      "id": "e05e2366",
      "metadata": {
        "id": "e05e2366"
      },
      "source": [
        "# Movimiento: LISTAS [ ]"
      ]
    },
    {
      "cell_type": "code",
      "execution_count": null,
      "id": "7e874e94",
      "metadata": {
        "id": "7e874e94"
      },
      "outputs": [],
      "source": [
        "#purinas / pirimidinas\n",
        "purinas = [\"A\",\"G\"]\n",
        "pirimidinas = [\"T\",\"C\"]"
      ]
    },
    {
      "cell_type": "code",
      "execution_count": null,
      "id": "d087bc36",
      "metadata": {
        "id": "d087bc36"
      },
      "outputs": [],
      "source": [
        "#cochinero (mezcla de tipos)"
      ]
    },
    {
      "cell_type": "code",
      "execution_count": null,
      "id": "185f56bf",
      "metadata": {
        "id": "185f56bf"
      },
      "outputs": [],
      "source": [
        "#len(cochinero)"
      ]
    },
    {
      "cell_type": "code",
      "execution_count": null,
      "id": "80b81d83",
      "metadata": {
        "id": "80b81d83"
      },
      "outputs": [],
      "source": [
        "#indexing"
      ]
    },
    {
      "cell_type": "code",
      "execution_count": null,
      "id": "44b092bb",
      "metadata": {
        "id": "44b092bb"
      },
      "outputs": [],
      "source": [
        "#subindexing / slicing"
      ]
    },
    {
      "cell_type": "code",
      "execution_count": null,
      "id": "04e1cb2e",
      "metadata": {
        "id": "04e1cb2e"
      },
      "outputs": [],
      "source": [
        "#suma de listas (bases_nitrogenadas = purinas+pirimidinas)"
      ]
    },
    {
      "cell_type": "markdown",
      "id": "054dae12",
      "metadata": {
        "id": "054dae12"
      },
      "source": [
        "# Técnica: APPEND"
      ]
    },
    {
      "cell_type": "code",
      "execution_count": null,
      "id": "dc149316",
      "metadata": {
        "id": "dc149316"
      },
      "outputs": [],
      "source": [
        "#append( ) a cochinero"
      ]
    },
    {
      "cell_type": "markdown",
      "id": "d9373111",
      "metadata": {
        "id": "d9373111"
      },
      "source": [
        "# Técnica: POP"
      ]
    },
    {
      "cell_type": "code",
      "execution_count": null,
      "id": "e35ac42d",
      "metadata": {
        "id": "e35ac42d"
      },
      "outputs": [],
      "source": [
        "#Pop (quitar un elemento) lista.pop()\n",
        "lista = [\"A\",\"B\",\"C\"]\n"
      ]
    },
    {
      "cell_type": "code",
      "execution_count": null,
      "id": "c07ad552",
      "metadata": {
        "id": "c07ad552"
      },
      "outputs": [],
      "source": [
        "#check lista"
      ]
    },
    {
      "cell_type": "markdown",
      "id": "9b37afe0",
      "metadata": {
        "id": "9b37afe0"
      },
      "source": [
        "# Técnica: SORT"
      ]
    },
    {
      "cell_type": "code",
      "execution_count": null,
      "id": "135f56fa",
      "metadata": {
        "id": "135f56fa"
      },
      "outputs": [],
      "source": [
        "#sort(lista)"
      ]
    },
    {
      "cell_type": "code",
      "execution_count": null,
      "id": "4cffcc2b",
      "metadata": {
        "id": "4cffcc2b"
      },
      "outputs": [],
      "source": [
        "#sort(cochinero)?"
      ]
    },
    {
      "cell_type": "markdown",
      "id": "ee084317",
      "metadata": {
        "id": "ee084317"
      },
      "source": [
        "# Técnica: REVERSE"
      ]
    },
    {
      "cell_type": "code",
      "execution_count": null,
      "id": "33304ae2",
      "metadata": {
        "id": "33304ae2"
      },
      "outputs": [],
      "source": [
        "#reverse()"
      ]
    },
    {
      "cell_type": "markdown",
      "id": "2fb03c60",
      "metadata": {
        "id": "2fb03c60"
      },
      "source": [
        "# Reto:\n",
        "### Crea una lista de números enteros\n",
        "### Crea una lista de letras\n",
        "### Crea una lista de palabras\n",
        "### Crea una lista de decimales\n",
        "### Usando append ( ) crea una lista gigante de listas\n"
      ]
    },
    {
      "cell_type": "code",
      "execution_count": null,
      "id": "96a0d051",
      "metadata": {
        "id": "96a0d051"
      },
      "outputs": [],
      "source": [
        "\n",
        "\n",
        "\n",
        "\n",
        "\n",
        "\n",
        "\n",
        "\n",
        "\n",
        "\n",
        "\n",
        "\n"
      ]
    },
    {
      "cell_type": "markdown",
      "id": "3dd87c14",
      "metadata": {
        "id": "3dd87c14"
      },
      "source": [
        "# Movimiento: DICCIONARIOS {:}"
      ]
    },
    {
      "cell_type": "code",
      "execution_count": 21,
      "id": "05112a15",
      "metadata": {
        "id": "05112a15"
      },
      "outputs": [],
      "source": [
        "#define un diccionario\n",
        "\n",
        "cosas = {\"key1\":\"value1\", \"key2\":\"value2\"}"
      ]
    },
    {
      "cell_type": "code",
      "execution_count": 23,
      "id": "b02bcf92",
      "metadata": {
        "colab": {
          "base_uri": "https://localhost:8080/"
        },
        "id": "b02bcf92",
        "outputId": "4cd0f9f0-1eaa-4dad-bcab-8e90a85b4d61"
      },
      "outputs": [
        {
          "output_type": "execute_result",
          "data": {
            "text/plain": [
              "{'key1': 'value1', 'key2': 'value2'}"
            ]
          },
          "metadata": {},
          "execution_count": 23
        }
      ],
      "source": [
        "#visualiza el diccionario\n",
        "cosas"
      ]
    },
    {
      "cell_type": "code",
      "execution_count": 25,
      "id": "dcbf7326",
      "metadata": {
        "colab": {
          "base_uri": "https://localhost:8080/",
          "height": 35
        },
        "id": "dcbf7326",
        "outputId": "26e3396f-f2a3-4df4-8cfd-3ec96388e4bc"
      },
      "outputs": [
        {
          "output_type": "execute_result",
          "data": {
            "text/plain": [
              "'value1'"
            ],
            "application/vnd.google.colaboratory.intrinsic+json": {
              "type": "string"
            }
          },
          "metadata": {},
          "execution_count": 25
        }
      ],
      "source": [
        "#dict['llave']\n",
        "cosas['key1']"
      ]
    },
    {
      "cell_type": "code",
      "execution_count": null,
      "id": "010c16fc",
      "metadata": {
        "id": "010c16fc"
      },
      "outputs": [],
      "source": [
        "#matryoshka = {'m1':0,\"m2\":{\"m3\":1}}"
      ]
    },
    {
      "cell_type": "code",
      "execution_count": null,
      "id": "49ca51ca",
      "metadata": {
        "id": "49ca51ca"
      },
      "outputs": [],
      "source": [
        "#añadiendo valores a un diccionario diccionario['newkey'] = value"
      ]
    },
    {
      "cell_type": "code",
      "execution_count": null,
      "id": "06829f4d",
      "metadata": {
        "id": "06829f4d"
      },
      "outputs": [],
      "source": [
        "#cambiando valores de un diccionario diccionario['oldkey'] = newvalue"
      ]
    },
    {
      "cell_type": "code",
      "execution_count": null,
      "id": "bffbf2d2",
      "metadata": {
        "id": "bffbf2d2"
      },
      "outputs": [],
      "source": [
        "#diccionario.keys()"
      ]
    },
    {
      "cell_type": "code",
      "execution_count": null,
      "id": "13469816",
      "metadata": {
        "id": "13469816"
      },
      "outputs": [],
      "source": [
        "#diccionario.values()"
      ]
    },
    {
      "cell_type": "code",
      "execution_count": null,
      "id": "e0fb3eda",
      "metadata": {
        "id": "e0fb3eda"
      },
      "outputs": [],
      "source": [
        "#diccionario.items()"
      ]
    },
    {
      "cell_type": "markdown",
      "id": "0b778c7c",
      "metadata": {
        "id": "0b778c7c"
      },
      "source": [
        "# Reto:\n",
        "### Obten la palabra ESPAGUETTI (en mayúsucula) del siguiente diccionario"
      ]
    },
    {
      "cell_type": "code",
      "execution_count": null,
      "id": "44df8043",
      "metadata": {
        "scrolled": true,
        "id": "44df8043",
        "outputId": "f6036400-0083-43cf-d7a6-163f908f23c1"
      },
      "outputs": [
        {
          "data": {
            "text/plain": [
              "'ESPAGUETI'"
            ]
          },
          "execution_count": 145,
          "metadata": {},
          "output_type": "execute_result"
        }
      ],
      "source": [
        "diccionario = {'cara':'pizza', 'pies':'tamal','pelo':[\"ravioles\",'espagueti','linguini']}"
      ]
    },
    {
      "cell_type": "code",
      "execution_count": null,
      "id": "e9e3c37b",
      "metadata": {
        "id": "e9e3c37b"
      },
      "outputs": [],
      "source": [
        "#Escribe el código aquí:\n",
        "\n",
        "\n",
        "\n",
        "\n",
        "\n",
        "\n",
        "\n",
        "\n",
        "\n",
        "\n"
      ]
    },
    {
      "cell_type": "markdown",
      "id": "37c15d61",
      "metadata": {
        "id": "37c15d61"
      },
      "source": [
        "# Movimiento: TUPLAS ( ): inmutables!"
      ]
    },
    {
      "cell_type": "code",
      "execution_count": null,
      "id": "ae51d027",
      "metadata": {
        "id": "ae51d027"
      },
      "outputs": [],
      "source": [
        "#define una tupla = (1,2,3,45,5,3,2)"
      ]
    },
    {
      "cell_type": "code",
      "execution_count": null,
      "id": "7bd5ffe4",
      "metadata": {
        "id": "7bd5ffe4"
      },
      "outputs": [],
      "source": [
        "#indexing"
      ]
    },
    {
      "cell_type": "code",
      "execution_count": null,
      "id": "a71cff49",
      "metadata": {
        "id": "a71cff49"
      },
      "outputs": [],
      "source": [
        "#subindexing / slicing"
      ]
    },
    {
      "cell_type": "code",
      "execution_count": null,
      "id": "71a11346",
      "metadata": {
        "id": "71a11346"
      },
      "outputs": [],
      "source": [
        "#Cuenta items: tupla.count(x)"
      ]
    },
    {
      "cell_type": "code",
      "execution_count": null,
      "id": "ccc3ad12",
      "metadata": {
        "id": "ccc3ad12"
      },
      "outputs": [],
      "source": [
        "#locación de item: tupla.index(x)"
      ]
    },
    {
      "cell_type": "code",
      "execution_count": null,
      "id": "3ce9bd2e",
      "metadata": {
        "id": "3ce9bd2e"
      },
      "outputs": [],
      "source": [
        "#Reasignación prohibida tupla[0] = newvalue"
      ]
    },
    {
      "cell_type": "markdown",
      "id": "77dd0cb5",
      "metadata": {
        "id": "77dd0cb5"
      },
      "source": [
        "# Técnica: SETS ( )"
      ]
    },
    {
      "cell_type": "code",
      "execution_count": null,
      "id": "755fa3f2",
      "metadata": {
        "id": "755fa3f2"
      },
      "outputs": [],
      "source": [
        "pastas = [\"pizza\",\"pizza\",\"ravioles\",\"ravioles\",\"pizza\",\"calzone\"]"
      ]
    },
    {
      "cell_type": "code",
      "execution_count": null,
      "id": "ea8169f0",
      "metadata": {
        "id": "ea8169f0"
      },
      "outputs": [],
      "source": [
        "#set"
      ]
    },
    {
      "cell_type": "markdown",
      "id": "ff43a35f",
      "metadata": {
        "id": "ff43a35f"
      },
      "source": [
        "# Reto:\n",
        "### Escribe las letras no repetidas de la palabra: supercalifragilisticexpialidocious"
      ]
    },
    {
      "cell_type": "code",
      "execution_count": null,
      "id": "6d4e7757",
      "metadata": {
        "id": "6d4e7757"
      },
      "outputs": [],
      "source": [
        "#Escribe el código aquí:\n",
        "popins = 'supercalifragilisticexpialidocious'\n",
        "\n",
        "\n",
        "\n",
        "\n",
        "\n",
        "\n",
        "\n",
        "\n",
        "\n",
        "\n",
        "\n",
        "\n",
        "\n",
        "\n",
        "\n",
        "\n",
        "\n"
      ]
    },
    {
      "cell_type": "markdown",
      "id": "0fc138c8",
      "metadata": {
        "id": "0fc138c8"
      },
      "source": [
        "# Movimiento: BOOLEANOS"
      ]
    },
    {
      "cell_type": "code",
      "execution_count": null,
      "id": "10445f86",
      "metadata": {
        "id": "10445f86"
      },
      "outputs": [],
      "source": [
        "#True"
      ]
    },
    {
      "cell_type": "code",
      "execution_count": null,
      "id": "846b3c9a",
      "metadata": {
        "id": "846b3c9a"
      },
      "outputs": [],
      "source": [
        "#False"
      ]
    },
    {
      "cell_type": "code",
      "execution_count": null,
      "id": "b95a23f2",
      "metadata": {
        "id": "b95a23f2"
      },
      "outputs": [],
      "source": [
        "#type(True)"
      ]
    },
    {
      "cell_type": "code",
      "execution_count": null,
      "id": "2298f98e",
      "metadata": {
        "id": "2298f98e"
      },
      "outputs": [],
      "source": [
        "# Comparación '==''"
      ]
    },
    {
      "cell_type": "code",
      "execution_count": null,
      "id": "814f3d11",
      "metadata": {
        "id": "814f3d11"
      },
      "outputs": [],
      "source": [
        "# Comparación '<'"
      ]
    },
    {
      "cell_type": "code",
      "execution_count": null,
      "id": "3fccd4a2",
      "metadata": {
        "id": "3fccd4a2"
      },
      "outputs": [],
      "source": [
        "# Comparación '>'"
      ]
    },
    {
      "cell_type": "markdown",
      "id": "bebad594",
      "metadata": {
        "id": "bebad594"
      },
      "source": [
        "# Técnicas: AND / OR / NOT"
      ]
    },
    {
      "cell_type": "code",
      "execution_count": null,
      "id": "32501474",
      "metadata": {
        "id": "32501474"
      },
      "outputs": [],
      "source": [
        "#and"
      ]
    },
    {
      "cell_type": "code",
      "execution_count": null,
      "id": "6797eebd",
      "metadata": {
        "id": "6797eebd"
      },
      "outputs": [],
      "source": [
        "#or"
      ]
    },
    {
      "cell_type": "code",
      "execution_count": null,
      "id": "f30a18bc",
      "metadata": {
        "id": "f30a18bc"
      },
      "outputs": [],
      "source": [
        "#not"
      ]
    },
    {
      "cell_type": "markdown",
      "id": "1627e288",
      "metadata": {
        "id": "1627e288"
      },
      "source": [
        "# Reto:\n",
        "### Menciona si los siguientes statments son Falsos o Verdaderos\n",
        "\n",
        "\n",
        "(1/3) + (1/3) + (1/3) == .99999999999999999\n",
        "\n",
        "(1/3) + (1/3) + (1/3) == 1\n",
        "\n",
        "1 == .99999999999999999\n",
        "\n",
        "\n"
      ]
    },
    {
      "cell_type": "code",
      "execution_count": null,
      "id": "77dc390a",
      "metadata": {
        "id": "77dc390a"
      },
      "outputs": [],
      "source": [
        "# Comprueba tus respuestas:\n",
        "\n",
        "\n",
        "\n",
        "\n",
        "\n",
        "\n",
        "\n",
        "\n",
        "\n",
        "\n",
        "\n",
        "\n",
        "\n"
      ]
    }
  ],
  "metadata": {
    "kernelspec": {
      "display_name": "Python 3 (ipykernel)",
      "language": "python",
      "name": "python3"
    },
    "language_info": {
      "codemirror_mode": {
        "name": "ipython",
        "version": 3
      },
      "file_extension": ".py",
      "mimetype": "text/x-python",
      "name": "python",
      "nbconvert_exporter": "python",
      "pygments_lexer": "ipython3",
      "version": "3.11.4"
    },
    "colab": {
      "provenance": [],
      "include_colab_link": true
    }
  },
  "nbformat": 4,
  "nbformat_minor": 5
}