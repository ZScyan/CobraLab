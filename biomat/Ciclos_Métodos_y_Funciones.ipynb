{
  "cells": [
    {
      "cell_type": "markdown",
      "metadata": {
        "id": "view-in-github",
        "colab_type": "text"
      },
      "source": [
        "<a href=\"https://colab.research.google.com/github/ZScyan/CobraLab/blob/main/biomat/Ciclos_M%C3%A9todos_y_Funciones.ipynb\" target=\"_parent\"><img src=\"https://colab.research.google.com/assets/colab-badge.svg\" alt=\"Open In Colab\"/></a>"
      ]
    },
    {
      "cell_type": "markdown",
      "id": "8e7a702d",
      "metadata": {
        "id": "8e7a702d"
      },
      "source": [
        "# Calentamiento (15m)\n"
      ]
    },
    {
      "cell_type": "code",
      "execution_count": null,
      "id": "0dd0e294",
      "metadata": {
        "id": "0dd0e294"
      },
      "outputs": [],
      "source": [
        "# Calculadora Científica"
      ]
    },
    {
      "cell_type": "code",
      "execution_count": null,
      "id": "bca0f8f2",
      "metadata": {
        "id": "bca0f8f2"
      },
      "outputs": [],
      "source": [
        "#Tipos de variables y asignación"
      ]
    },
    {
      "cell_type": "code",
      "execution_count": null,
      "id": "92128ccf",
      "metadata": {
        "id": "92128ccf"
      },
      "outputs": [],
      "source": [
        "# Indexing, Subindexing, Slicing"
      ]
    },
    {
      "cell_type": "code",
      "execution_count": null,
      "id": "b8d0634d",
      "metadata": {
        "id": "b8d0634d"
      },
      "outputs": [],
      "source": [
        "#Prints"
      ]
    },
    {
      "cell_type": "code",
      "execution_count": null,
      "id": "ab52771a",
      "metadata": {
        "id": "ab52771a"
      },
      "outputs": [],
      "source": [
        "#Listas"
      ]
    },
    {
      "cell_type": "code",
      "execution_count": null,
      "id": "c8771301",
      "metadata": {
        "id": "c8771301"
      },
      "outputs": [],
      "source": [
        "#Diccionarios"
      ]
    },
    {
      "cell_type": "code",
      "execution_count": null,
      "id": "77d171c1",
      "metadata": {
        "id": "77d171c1"
      },
      "outputs": [],
      "source": [
        "#Tuplas"
      ]
    },
    {
      "cell_type": "code",
      "execution_count": null,
      "id": "e7d6d187",
      "metadata": {
        "id": "e7d6d187"
      },
      "outputs": [],
      "source": [
        "#Sets"
      ]
    },
    {
      "cell_type": "code",
      "execution_count": null,
      "id": "137523e3",
      "metadata": {
        "id": "137523e3"
      },
      "outputs": [],
      "source": [
        "#Booleanos"
      ]
    },
    {
      "cell_type": "markdown",
      "id": "c8a262d2",
      "metadata": {
        "id": "c8a262d2"
      },
      "source": [
        "# Movimiento: INPUT\n",
        "### Input del Usuario"
      ]
    },
    {
      "cell_type": "code",
      "execution_count": null,
      "id": "e204f78f",
      "metadata": {
        "id": "e204f78f",
        "outputId": "29943324-f1f4-4195-e6b6-6672891dfa04"
      },
      "outputs": [
        {
          "name": "stdout",
          "output_type": "stream",
          "text": [
            "¿A qué equipo perteneces?a\n"
          ]
        },
        {
          "data": {
            "text/plain": [
              "'a'"
            ]
          },
          "execution_count": 48,
          "metadata": {},
          "output_type": "execute_result"
        }
      ],
      "source": [
        "input('¿A qué equipo perteneces?')"
      ]
    },
    {
      "cell_type": "code",
      "execution_count": null,
      "id": "3c4d1c51",
      "metadata": {
        "id": "3c4d1c51",
        "outputId": "d4ef88ff-f93c-410b-c8b0-c3729085a9f6"
      },
      "outputs": [
        {
          "name": "stdout",
          "output_type": "stream",
          "text": [
            "¿Que platillo desea ordenar?ravioles\n"
          ]
        },
        {
          "data": {
            "text/plain": [
              "'ravioles'"
            ]
          },
          "execution_count": 49,
          "metadata": {},
          "output_type": "execute_result"
        }
      ],
      "source": [
        "input('¿Que platillo desea ordenar?')"
      ]
    },
    {
      "cell_type": "markdown",
      "id": "0a558c31",
      "metadata": {
        "id": "0a558c31"
      },
      "source": [
        "### CUIDADO! No ignoren a la serpiente...(menos dos veces!)"
      ]
    },
    {
      "cell_type": "code",
      "execution_count": null,
      "id": "e2bc8447",
      "metadata": {
        "id": "e2bc8447"
      },
      "outputs": [],
      "source": [
        "input(\"Me vas a ignorar?\")"
      ]
    },
    {
      "cell_type": "markdown",
      "id": "9486245c",
      "metadata": {
        "id": "9486245c"
      },
      "source": [
        "# Movimiento: FOR LOOPS\n",
        "### Repitiendo una pregunta N veces\n",
        "### (Observa la identación)"
      ]
    },
    {
      "cell_type": "code",
      "execution_count": null,
      "id": "98c30d7d",
      "metadata": {
        "id": "98c30d7d"
      },
      "outputs": [],
      "source": [
        "#FOR con listas\n"
      ]
    },
    {
      "cell_type": "code",
      "execution_count": null,
      "id": "0d0d0d2c",
      "metadata": {
        "id": "0d0d0d2c",
        "outputId": "493e8c06-a788-4386-a7b7-5ecdedfc48b8"
      },
      "outputs": [
        {
          "name": "stdout",
          "output_type": "stream",
          "text": [
            "1\n",
            "2\n",
            "3\n"
          ]
        }
      ],
      "source": [
        "#FOR con tuplas\n"
      ]
    },
    {
      "cell_type": "code",
      "execution_count": null,
      "id": "95f421ff",
      "metadata": {
        "id": "95f421ff"
      },
      "outputs": [],
      "source": [
        "#FOR con palabras\n",
        "palabra = \"Supercalifragilisticoespiralidoso\"\n",
        "#for letra in palabra"
      ]
    },
    {
      "cell_type": "markdown",
      "id": "325b6781",
      "metadata": {
        "id": "325b6781"
      },
      "source": [
        "# Reto:\n",
        "### Usando un ciclo for, imprime en pantalla una por una de las palabras de la siguiente lista:\n"
      ]
    },
    {
      "cell_type": "code",
      "execution_count": null,
      "id": "b4ae3d37",
      "metadata": {
        "id": "b4ae3d37"
      },
      "outputs": [],
      "source": [
        "comida = ['espagueti','ravioles','canelones','calzone']"
      ]
    },
    {
      "cell_type": "code",
      "execution_count": null,
      "id": "fccb7477",
      "metadata": {
        "id": "fccb7477"
      },
      "outputs": [],
      "source": [
        "\n",
        "\n",
        "\n",
        "\n",
        "\n",
        "\n",
        "\n",
        "\n",
        "\n",
        "\n",
        "\n"
      ]
    },
    {
      "cell_type": "markdown",
      "id": "797a1510",
      "metadata": {
        "id": "797a1510"
      },
      "source": [
        "# Reto:\n",
        "### Haciendo un pedido al usuario tres veces!"
      ]
    },
    {
      "cell_type": "code",
      "execution_count": null,
      "id": "9e366c8e",
      "metadata": {
        "id": "9e366c8e",
        "outputId": "975e3950-1b26-42d9-9990-7e2af23fd176"
      },
      "outputs": [
        {
          "name": "stdout",
          "output_type": "stream",
          "text": [
            "Escribe una linea del cuento:asd\n",
            "Escribe una linea del cuento:as\n",
            "Escribe una linea del cuento:asd\n",
            "El cuento que escribiste es:\n",
            "asd\n",
            "as\n",
            "asd\n"
          ]
        }
      ],
      "source": [
        "# usando: asignación de variables, listas, ciclos, inputs, print\n",
        "pr1 = 'Escribe una linea del cuento:'\n",
        "respuestas = []\n",
        "\n",
        "for x in [0,1,2]:\n",
        "    respuestas.append(input(pr1))\n",
        "\n",
        "\n",
        "print(\"El cuento que escribiste es:\")\n",
        "for lin in respuestas:\n",
        "    print(lin)"
      ]
    },
    {
      "cell_type": "markdown",
      "id": "b858c06c",
      "metadata": {
        "id": "b858c06c"
      },
      "source": [
        "# Técnica: range( )"
      ]
    },
    {
      "cell_type": "code",
      "execution_count": null,
      "id": "d2336a34",
      "metadata": {
        "id": "d2336a34"
      },
      "outputs": [],
      "source": [
        "#for num in range(10): print(num)"
      ]
    },
    {
      "cell_type": "code",
      "execution_count": null,
      "id": "c9abc688",
      "metadata": {
        "id": "c9abc688"
      },
      "outputs": [],
      "source": [
        "# step de range(min,max,step)"
      ]
    },
    {
      "cell_type": "code",
      "execution_count": null,
      "id": "d8b0ea32",
      "metadata": {
        "id": "d8b0ea32"
      },
      "outputs": [],
      "source": [
        "# variable \"_\" si no voy a usar su valor\n",
        "#for _ in range(\"5\"):\n",
        "    #print(\"lo mismo\")"
      ]
    },
    {
      "cell_type": "markdown",
      "id": "589726eb",
      "metadata": {
        "id": "589726eb"
      },
      "source": [
        "# Movimiento Mixto: Tuple Unpacking\n",
        "### Desempacando Tuplas."
      ]
    },
    {
      "cell_type": "code",
      "execution_count": null,
      "id": "ee9e9b3b",
      "metadata": {
        "id": "ee9e9b3b"
      },
      "outputs": [],
      "source": [
        "lista_tuplas = [(1,2),(3,4),(5,6),(7,8)]"
      ]
    },
    {
      "cell_type": "code",
      "execution_count": null,
      "id": "ef5a9108",
      "metadata": {
        "id": "ef5a9108"
      },
      "outputs": [],
      "source": [
        "#for tup in tuplas: print(tup)"
      ]
    },
    {
      "cell_type": "code",
      "execution_count": null,
      "id": "aab3b469",
      "metadata": {
        "id": "aab3b469"
      },
      "outputs": [],
      "source": [
        "#for x,y in tuplas: print(x,y)"
      ]
    },
    {
      "cell_type": "markdown",
      "id": "3a490590",
      "metadata": {
        "id": "3a490590"
      },
      "source": [
        "# Reto:\n",
        "### De la siguiente lista de tuplas, imprime por separado cada número usando \"unpacking\""
      ]
    },
    {
      "cell_type": "code",
      "execution_count": null,
      "id": "951123c0",
      "metadata": {
        "id": "951123c0"
      },
      "outputs": [],
      "source": [
        "lista_tuplas = [(1,2,3),(4,5,6),(7,8,9),(10,11,12)]"
      ]
    },
    {
      "cell_type": "code",
      "execution_count": null,
      "id": "c0643d2b",
      "metadata": {
        "id": "c0643d2b"
      },
      "outputs": [],
      "source": [
        "\n",
        "\n",
        "\n",
        "\n",
        "\n",
        "\n",
        "\n",
        "\n",
        "\n",
        "\n"
      ]
    },
    {
      "cell_type": "markdown",
      "id": "06af4dcf",
      "metadata": {
        "id": "06af4dcf"
      },
      "source": [
        "# Movimiento Mixto: Dictionary Unpacking\n",
        "### Desempacando diccionarios\n",
        "### Al hacer un FOR con un diccionario, ciclamos sobre las llaves\n",
        "### Recuerda que puedes usar: D.values( ) y D.items( )"
      ]
    },
    {
      "cell_type": "code",
      "execution_count": null,
      "id": "6e10d695",
      "metadata": {
        "id": "6e10d695"
      },
      "outputs": [],
      "source": [
        "d = {'k1':1,'k2':2,'k3':3}"
      ]
    },
    {
      "cell_type": "code",
      "execution_count": null,
      "id": "cf677c9d",
      "metadata": {
        "id": "cf677c9d",
        "outputId": "84d3d50f-8e99-4664-960b-368d1ccbfc2c"
      },
      "outputs": [
        {
          "name": "stdout",
          "output_type": "stream",
          "text": [
            "k1\n",
            "k2\n",
            "k3\n"
          ]
        }
      ],
      "source": [
        "# ciclo keys\n",
        "for k in d:\n",
        "    print(k)"
      ]
    },
    {
      "cell_type": "code",
      "execution_count": null,
      "id": "6d9b735b",
      "metadata": {
        "id": "6d9b735b"
      },
      "outputs": [],
      "source": [
        "#ciclo d.values"
      ]
    },
    {
      "cell_type": "code",
      "execution_count": null,
      "id": "76417550",
      "metadata": {
        "id": "76417550"
      },
      "outputs": [],
      "source": [
        "#Unpacking con k,v y ciclo d.items()"
      ]
    },
    {
      "cell_type": "markdown",
      "id": "c4d06359",
      "metadata": {
        "id": "c4d06359"
      },
      "source": [
        "# Técnica: enumerate( )"
      ]
    },
    {
      "cell_type": "code",
      "execution_count": null,
      "id": "3eec3f3e",
      "metadata": {
        "id": "3eec3f3e",
        "outputId": "3903e90d-f696-4f84-c967-7c028a721ca1"
      },
      "outputs": [
        {
          "name": "stdout",
          "output_type": "stream",
          "text": [
            "1\n",
            "primera\n",
            "---\n",
            "2\n",
            "segunda\n",
            "---\n",
            "3\n",
            "tercera\n",
            "---\n"
          ]
        }
      ],
      "source": [
        "for i,n in enumerate(['primera','segunda','tercera']):\n",
        "    print(i+1)\n",
        "    print(n)\n",
        "    print(\"---\")"
      ]
    },
    {
      "cell_type": "markdown",
      "id": "f2828fac",
      "metadata": {
        "id": "f2828fac"
      },
      "source": [
        "# Reto:\n",
        "### Usando for-loops, enumerate, y variables, píde al usuario que escriba las líneas de un haiku de la siguiente forma:\n",
        "\n",
        "Escribe la X línea del haiku:\n",
        "\n",
        "Escribe la X línea del haiku:\n",
        "\n",
        "Escribe la X línea del haiku:\n",
        "\n",
        "En donde X tome los valores: \"primera\", \"segunda\", \"tercera\""
      ]
    },
    {
      "cell_type": "code",
      "execution_count": null,
      "id": "af28580b",
      "metadata": {
        "id": "af28580b"
      },
      "outputs": [],
      "source": [
        "\n",
        "\n",
        "\n",
        "\n",
        "\n",
        "\n",
        "\n",
        "\n",
        "\n",
        "\n",
        "\n",
        "\n",
        "\n",
        "\n",
        "\n"
      ]
    },
    {
      "cell_type": "markdown",
      "id": "f745ee5a",
      "metadata": {
        "id": "f745ee5a"
      },
      "source": [
        "# Movimiento:  IF / ELSE / ELIF - CONDICIONALES\n",
        "\n",
        "Tengo_sueño?\n",
        "Sí\n",
        "\n",
        "Entonces...\n",
        "\n",
        "A Dormir!\n",
        "\n",
        "Amenos que...\n",
        "\n",
        "Estoy en clase?\n",
        "Sí\n",
        "\n",
        "Entonces...\n",
        "\n",
        "Tomar Café\n",
        "\n",
        "### Observa la identación\n",
        "tengo sueño?\n",
        "\n",
        "    si tengo sueño:\n",
        "        estoy en clase?\n",
        "        \n",
        "            si estoy en clase:\n",
        "                tomar café\n",
        "        \n",
        "            no estoy en clase:\n",
        "                dormir\n",
        "\n",
        "     no tengo sueño:\n",
        "         poner atención!"
      ]
    },
    {
      "cell_type": "code",
      "execution_count": null,
      "id": "5827c926",
      "metadata": {
        "id": "5827c926"
      },
      "outputs": [],
      "source": [
        "# if True"
      ]
    },
    {
      "cell_type": "code",
      "execution_count": null,
      "id": "143b3115",
      "metadata": {
        "id": "143b3115"
      },
      "outputs": [],
      "source": [
        "a = 5\n",
        "b = 9"
      ]
    },
    {
      "cell_type": "code",
      "execution_count": null,
      "id": "2c330111",
      "metadata": {
        "id": "2c330111"
      },
      "outputs": [],
      "source": [
        "# if / else / elif\n",
        "if a<b\n",
        "\n",
        "elif a==b\n",
        "\n",
        "elif a>b\n",
        "\n",
        "else"
      ]
    },
    {
      "cell_type": "markdown",
      "id": "14e67481",
      "metadata": {
        "id": "14e67481"
      },
      "source": [
        "# Reto:\n",
        "### Escribe el código para decidir si tomar café o dormir dependiendo si hay clase o no hay clase"
      ]
    },
    {
      "cell_type": "code",
      "execution_count": null,
      "id": "596f055d",
      "metadata": {
        "id": "596f055d"
      },
      "outputs": [],
      "source": [
        "sueño = True\n",
        "clase =  False"
      ]
    },
    {
      "cell_type": "code",
      "execution_count": null,
      "id": "c1f0cd56",
      "metadata": {
        "id": "c1f0cd56"
      },
      "outputs": [],
      "source": [
        "\n",
        "\n",
        "\n",
        "\n",
        "\n",
        "\n",
        "\n",
        "\n",
        "\n",
        "\n",
        "\n",
        "\n",
        "\n",
        "\n",
        "\n",
        "\n",
        "\n"
      ]
    },
    {
      "cell_type": "markdown",
      "id": "6950c6eb",
      "metadata": {
        "id": "6950c6eb"
      },
      "source": [
        "# Movimiento de artes-oscuras: Controlando al usuario con if/else/elif"
      ]
    },
    {
      "cell_type": "code",
      "execution_count": null,
      "id": "6acc1cfe",
      "metadata": {
        "id": "6acc1cfe",
        "outputId": "2252f195-542a-4782-ed64-84218b7b3610"
      },
      "outputs": [
        {
          "name": "stdout",
          "output_type": "stream",
          "text": [
            "Escribe un número: 213\n",
            "muy bien!\n"
          ]
        }
      ],
      "source": [
        "#str.isnumeric()\n",
        "a = input(\"Escribe un número: \")\n",
        "\n",
        "if (a.isnumeric()):\n",
        "    print(\"muy bien!\")\n",
        "else:\n",
        "    print(\"te dije que un numero! >_<\")"
      ]
    },
    {
      "cell_type": "code",
      "execution_count": null,
      "id": "10a958d8",
      "metadata": {
        "id": "10a958d8",
        "outputId": "acaaeafe-b894-4ce7-ac5f-82402d29675f"
      },
      "outputs": [
        {
          "name": "stdout",
          "output_type": "stream",
          "text": [
            "Escribe un número: asd\n",
            "Escribe otro número: asd\n",
            "<class 'str'>\n",
            "<class 'str'>\n",
            "asdasd\n"
          ]
        }
      ],
      "source": [
        "#Checa el type\n",
        "a = input(\"Escribe un número: \")\n",
        "b = input(\"Escribe otro número: \")\n",
        "\n",
        "print(type(a))\n",
        "print(type(b))\n",
        "print(a+b)"
      ]
    },
    {
      "cell_type": "markdown",
      "id": "9af3b25b",
      "metadata": {
        "id": "9af3b25b"
      },
      "source": [
        "# Técnica: casting!"
      ]
    },
    {
      "cell_type": "code",
      "execution_count": null,
      "id": "9e2c418f",
      "metadata": {
        "id": "9e2c418f",
        "outputId": "dd2c6cea-0728-4c49-bec6-4baa371ea94b"
      },
      "outputs": [
        {
          "name": "stdout",
          "output_type": "stream",
          "text": [
            "¿qué número quieres sumar? 2\n",
            "qué otro número quieres sumar? 4\n",
            "el resultado es 24\n"
          ]
        }
      ],
      "source": [
        "numero_a = input('¿qué número quieres sumar? ')\n",
        "numero_b = input('qué otro número quieres sumar? ')\n",
        "\n",
        "print(f'el resultado es {numero_a+numero_b}')\n",
        "\n",
        "#No puede ser! Debemos de castear!\n"
      ]
    },
    {
      "cell_type": "markdown",
      "id": "28d3eb5e",
      "metadata": {
        "id": "28d3eb5e"
      },
      "source": [
        "# Movimiento Mixto: Anidando Ciclos y Condicionales"
      ]
    },
    {
      "cell_type": "code",
      "execution_count": null,
      "id": "be42fe47",
      "metadata": {
        "id": "be42fe47",
        "outputId": "56d4e3b5-e62a-4854-b819-51340b473566"
      },
      "outputs": [
        {
          "name": "stdout",
          "output_type": "stream",
          "text": [
            "6 es mayor a 5\n",
            "7 es mayor a 5\n",
            "8 es mayor a 5\n",
            "9 es mayor a 5\n",
            "10 es mayor a 5\n"
          ]
        }
      ],
      "source": [
        "#for x in [1,2,3,4,5,6,7,8,9,10]:\n",
        "#    if(x > 5):\n",
        "#        print(f\"{x} es mayor a 5\")"
      ]
    },
    {
      "cell_type": "markdown",
      "id": "1a281220",
      "metadata": {
        "id": "1a281220"
      },
      "source": [
        "# Reto:\n",
        "### Imprime los numeros pares de la siguente lista, usando un ciclo for y un condicional"
      ]
    },
    {
      "cell_type": "code",
      "execution_count": null,
      "id": "89de325d",
      "metadata": {
        "id": "89de325d",
        "outputId": "fb35128c-6606-42df-d694-f5037831eec9"
      },
      "outputs": [
        {
          "name": "stdout",
          "output_type": "stream",
          "text": [
            "2\n",
            "4\n",
            "6\n",
            "8\n",
            "10\n"
          ]
        }
      ],
      "source": [
        "numeros = [1,2,3,4,5,6,7,8,9,10]\n",
        "\n",
        "\n",
        "\n",
        "\n",
        "\n",
        "\n",
        "\n",
        "\n",
        "\n",
        "\n",
        "\n",
        "\n",
        "\n",
        "\n"
      ]
    },
    {
      "cell_type": "markdown",
      "id": "d3121ec3",
      "metadata": {
        "id": "d3121ec3"
      },
      "source": [
        "# Reto:\n",
        "### Calcular Promedio: El promedio de un conjunto de datos es la suma de los valores divididos entre el número de valores"
      ]
    },
    {
      "cell_type": "code",
      "execution_count": null,
      "id": "a853af40",
      "metadata": {
        "id": "a853af40"
      },
      "outputs": [],
      "source": [
        "numeros = [123,234,345,453,521]\n",
        "promedio = 0\n",
        "\n",
        "\n",
        "\n",
        "\n",
        "\n",
        "\n",
        "\n",
        "\n",
        "\n",
        "\n",
        "\n",
        "\n",
        "\n",
        "\n"
      ]
    },
    {
      "cell_type": "markdown",
      "id": "e3a4ee2e",
      "metadata": {
        "id": "e3a4ee2e"
      },
      "source": [
        "# Movimiento: List Comprehensions"
      ]
    },
    {
      "cell_type": "code",
      "execution_count": null,
      "id": "03027655",
      "metadata": {
        "id": "03027655",
        "outputId": "2170f905-7428-4c52-a18d-9bf7f1f54b01"
      },
      "outputs": [
        {
          "data": {
            "text/plain": [
              "[0, 2, 4, 6, 8]"
            ]
          },
          "execution_count": 42,
          "metadata": {},
          "output_type": "execute_result"
        }
      ],
      "source": [
        "#newlist = [expression for item in iterable if condition == True]\n",
        "\n",
        "type(range(10))\n",
        "\n",
        "lista = [x for x in range(10)]\n",
        "lista\n",
        "\n",
        "lista = [x for x in range(10) if (x%2 == 0)]\n",
        "\n",
        "\n",
        "\n",
        "\n"
      ]
    },
    {
      "cell_type": "code",
      "execution_count": null,
      "id": "0b9f91ac",
      "metadata": {
        "id": "0b9f91ac",
        "outputId": "84067983-61f0-4774-96e3-c598914645bc"
      },
      "outputs": [
        {
          "data": {
            "text/plain": [
              "['LINGUINI', 'RAVIOLES', 'ESPAGUETI']"
            ]
          },
          "execution_count": 44,
          "metadata": {},
          "output_type": "execute_result"
        }
      ],
      "source": [
        "#Aplicando a todo\n",
        "pastas = ['linguini','ravioles','espagueti']\n",
        "\n",
        "mayusculas = [p.upper() for p in pastas]\n",
        "mayusculas"
      ]
    },
    {
      "cell_type": "markdown",
      "id": "ca12021e",
      "metadata": {
        "id": "ca12021e"
      },
      "source": [
        "# Reto:\n",
        "## 1) Píde al usuario que escriba tres oraciones que tengan más de 5 palabras.\n",
        "## 2) Avísale si lo hizo bien, o lo hizo mal.\n"
      ]
    },
    {
      "cell_type": "code",
      "execution_count": null,
      "id": "642da6ca",
      "metadata": {
        "id": "642da6ca"
      },
      "outputs": [],
      "source": [
        "\n",
        "\n",
        "\n",
        "\n",
        "\n",
        "\n",
        "\n",
        "\n",
        "\n",
        "\n",
        "\n",
        "\n",
        "\n",
        "\n"
      ]
    },
    {
      "cell_type": "markdown",
      "id": "736440c5",
      "metadata": {
        "id": "736440c5"
      },
      "source": [
        "# MEGA RETO:\n",
        "### Pide al usuario que escriba un cuento de 3 frases.\n",
        "### La primera frase debe tener 5 palabras\n",
        "### La segunda frase debe tener 7 palabras\n",
        "### La tercera frase debe tener 6 palabras\n",
        "\n",
        "### En caso de que no tengan esa cantidad, decirle que esta mal\n",
        "\n",
        "TIP: usa la funcion len() y split() para saber la longitud de la frase"
      ]
    },
    {
      "cell_type": "code",
      "execution_count": null,
      "id": "c0eee820",
      "metadata": {
        "id": "c0eee820"
      },
      "outputs": [],
      "source": [
        "# Escribe la respuesta aquí\n",
        "\n",
        "\n",
        "\n",
        "\n",
        "\n",
        "\n",
        "\n",
        "\n",
        "\n",
        "\n",
        "\n",
        "\n",
        "\n",
        "\n",
        "\n",
        "\n",
        "\n",
        "\n",
        "\n",
        "\n"
      ]
    },
    {
      "cell_type": "markdown",
      "id": "95db0b8e",
      "metadata": {
        "id": "95db0b8e"
      },
      "source": [
        "# Movimiento Peligroso para uno mismo: CICLO WHILE (Mientras que)\n",
        "### Se usa cuando quiero ejecutar un código hasta que / mientras que se satisfaga una condición.\n",
        "\n",
        "\n",
        "**Mientras tengo sueño:**\n",
        "Duermo\n",
        "\n",
        "**Mientras tengo hambre:**\n",
        "Como\n",
        "\n",
        "**Sintaxis:**\n",
        "\n",
        "while condicion_t/f:\n",
        "\n",
        "    ejecuta_este_codigo\n",
        "\n",
        "else:\n",
        "\n",
        "    ejecuta_este_otro_codigo"
      ]
    },
    {
      "cell_type": "markdown",
      "id": "8c6e9499",
      "metadata": {
        "id": "8c6e9499"
      },
      "source": [
        "# PELIGRO!\n",
        "### Este movimiento puede hacer que tu computadora trabaje infinitamente!\n",
        "\n",
        "while True:\n",
        "\n",
        "    print(\"Repite ad-nauseum\")\n",
        "    \n",
        "    \n",
        "# Defensa: Kernel > Stop   o   Kernel > Interrupt"
      ]
    },
    {
      "cell_type": "code",
      "execution_count": null,
      "id": "dda568b8",
      "metadata": {
        "id": "dda568b8",
        "outputId": "59174a6f-5a7f-4d19-fe3f-69351f2cb79a"
      },
      "outputs": [
        {
          "name": "stdout",
          "output_type": "stream",
          "text": [
            "X vale: 0\n",
            "X vale: 1\n",
            "X vale: 2\n"
          ]
        }
      ],
      "source": [
        "x = 0\n",
        "while x < 3:\n",
        "    print(f'X vale: {x}')\n",
        "    x = x+1 #Super necesario"
      ]
    },
    {
      "cell_type": "markdown",
      "id": "c99f7151",
      "metadata": {
        "id": "c99f7151"
      },
      "source": [
        "# Slang:\n",
        "\n",
        "x+=1"
      ]
    },
    {
      "cell_type": "markdown",
      "id": "68867f99",
      "metadata": {
        "id": "68867f99"
      },
      "source": [
        "![image.png](attachment:image.png)"
      ]
    },
    {
      "cell_type": "markdown",
      "id": "d1f32446",
      "metadata": {
        "id": "d1f32446"
      },
      "source": [
        "# Usando ciclos while, ifs, else y el código del reto anterior, has que se repita la pregunta hasta que el usuario ponga el número de palabras adecuado"
      ]
    },
    {
      "cell_type": "code",
      "execution_count": null,
      "id": "343b0b18",
      "metadata": {
        "id": "343b0b18",
        "outputId": "f77a62ca-3d9d-4a5a-8a72-37bd162812a0"
      },
      "outputs": [
        {
          "name": "stdout",
          "output_type": "stream",
          "text": [
            "Escribe una frase con 5 palabras: asd asd asd asd asd \n",
            "5\n",
            "Muy bien!\n",
            "Escribe una frase con 7 palabras: sd sd sd sd sd sd sd \n",
            "7\n",
            "Muy bien!\n",
            "Escribe una frase con 5 palabras: as \n",
            "1\n",
            "Escribiste un numero equivocado de palabras 1! Intenta de nuevo!\n",
            "Escribe una frase con 5 palabras: df df df df df\n",
            "5\n",
            "Muy bien!\n",
            "Tus oraciones fueron:\n",
            "['asd asd asd asd asd ', 'sd sd sd sd sd sd sd ', 'df df df df df']\n"
          ]
        }
      ],
      "source": [
        "oraciones = []\n",
        "for i in [5,7,5]:\n",
        "\n",
        "    l=0\n",
        "    while(l != i):\n",
        "        frase = input(f'Escribe una frase con {i} palabras: ')\n",
        "        l = len(frase.split())\n",
        "\n",
        "        if(l == i):\n",
        "            print(\"Muy bien!\")\n",
        "            oraciones.append(frase)\n",
        "        else:\n",
        "            print(f\"Escribiste un numero equivocado de palabras {l}! Intenta de nuevo!\")\n",
        "\n",
        "\n",
        "print('Tus oraciones fueron:')\n",
        "for o in oraciones: print(o)\n",
        "\n",
        "\n",
        "\n",
        "\n",
        "\n",
        "\n",
        "\n",
        "\n",
        "\n",
        "\n"
      ]
    }
  ],
  "metadata": {
    "kernelspec": {
      "display_name": "Python 3 (ipykernel)",
      "language": "python",
      "name": "python3"
    },
    "language_info": {
      "codemirror_mode": {
        "name": "ipython",
        "version": 3
      },
      "file_extension": ".py",
      "mimetype": "text/x-python",
      "name": "python",
      "nbconvert_exporter": "python",
      "pygments_lexer": "ipython3",
      "version": "3.11.4"
    },
    "colab": {
      "provenance": [],
      "include_colab_link": true
    }
  },
  "nbformat": 4,
  "nbformat_minor": 5
}